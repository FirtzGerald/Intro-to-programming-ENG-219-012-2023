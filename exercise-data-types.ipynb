{
 "cells": [
  {
   "cell_type": "markdown",
   "id": "e95715fe",
   "metadata": {
    "papermill": {
     "duration": 0.006114,
     "end_time": "2025-02-26T09:47:22.390881",
     "exception": false,
     "start_time": "2025-02-26T09:47:22.384767",
     "status": "completed"
    },
    "tags": []
   },
   "source": [
    "**This notebook is an exercise in the [Intro to Programming](https://www.kaggle.com/learn/intro-to-programming) course.  You can reference the tutorial at [this link](https://www.kaggle.com/alexisbcook/data-types).**\n",
    "\n",
    "---\n"
   ]
  },
  {
   "cell_type": "markdown",
   "id": "4ba2fdf1",
   "metadata": {
    "papermill": {
     "duration": 0.00561,
     "end_time": "2025-02-26T09:47:22.402034",
     "exception": false,
     "start_time": "2025-02-26T09:47:22.396424",
     "status": "completed"
    },
    "tags": []
   },
   "source": [
    "In the tutorial, you learned about four different data types: floats, integers, strings, and booleans.  In this exercise, you'll experiment with them.\n",
    "\n",
    "# Set up the notebook\n",
    "\n",
    "Run the next code cell without changes to set up the notebook."
   ]
  },
  {
   "cell_type": "code",
   "execution_count": 1,
   "id": "9f508f84",
   "metadata": {
    "execution": {
     "iopub.execute_input": "2025-02-26T09:47:22.414667Z",
     "iopub.status.busy": "2025-02-26T09:47:22.414295Z",
     "iopub.status.idle": "2025-02-26T09:47:23.527203Z",
     "shell.execute_reply": "2025-02-26T09:47:23.525608Z"
    },
    "papermill": {
     "duration": 1.121595,
     "end_time": "2025-02-26T09:47:23.529206",
     "exception": false,
     "start_time": "2025-02-26T09:47:22.407611",
     "status": "completed"
    },
    "tags": []
   },
   "outputs": [
    {
     "name": "stdout",
     "output_type": "stream",
     "text": [
      "Setup complete.\n"
     ]
    }
   ],
   "source": [
    "# Set up the exercise\n",
    "from learntools.core import binder\n",
    "binder.bind(globals())\n",
    "from learntools.intro_to_programming.ex3 import *\n",
    "print('Setup complete.')"
   ]
  },
  {
   "cell_type": "markdown",
   "id": "28940d92",
   "metadata": {
    "papermill": {
     "duration": 0.005182,
     "end_time": "2025-02-26T09:47:23.540162",
     "exception": false,
     "start_time": "2025-02-26T09:47:23.534980",
     "status": "completed"
    },
    "tags": []
   },
   "source": [
    "# Question 1\n",
    "\n",
    "You have seen how to convert a float to an integer with the `int` function.  Try this out yourself by running the code cell below."
   ]
  },
  {
   "cell_type": "code",
   "execution_count": 2,
   "id": "20cacb32",
   "metadata": {
    "execution": {
     "iopub.execute_input": "2025-02-26T09:47:23.554366Z",
     "iopub.status.busy": "2025-02-26T09:47:23.553785Z",
     "iopub.status.idle": "2025-02-26T09:47:23.561593Z",
     "shell.execute_reply": "2025-02-26T09:47:23.559920Z"
    },
    "papermill": {
     "duration": 0.018896,
     "end_time": "2025-02-26T09:47:23.564492",
     "exception": false,
     "start_time": "2025-02-26T09:47:23.545596",
     "status": "completed"
    },
    "tags": []
   },
   "outputs": [
    {
     "name": "stdout",
     "output_type": "stream",
     "text": [
      "1.0\n",
      "<class 'float'>\n",
      "1\n",
      "<class 'int'>\n"
     ]
    }
   ],
   "source": [
    "# Define a float\n",
    "y = 1.\n",
    "print(y)\n",
    "print(type(y))\n",
    "\n",
    "# Convert float to integer with the int function\n",
    "z = int(y)\n",
    "print(z)\n",
    "print(type(z))"
   ]
  },
  {
   "cell_type": "markdown",
   "id": "3cee22f4",
   "metadata": {
    "papermill": {
     "duration": 0.00519,
     "end_time": "2025-02-26T09:47:23.575943",
     "exception": false,
     "start_time": "2025-02-26T09:47:23.570753",
     "status": "completed"
    },
    "tags": []
   },
   "source": [
    "In this case, the float you are using has no numbers after the decimal.  \n",
    "- But what happens when you try to convert a float with a fractional part to an integer?  \n",
    "- How does the outcome of the `int` function change for positive and negative numbers?\n",
    "\n",
    "Use the next code cell to investigate and answer these questions.  Feel free to add or remove any lines of code -- it is your workspace!"
   ]
  },
  {
   "cell_type": "code",
   "execution_count": 3,
   "id": "a8e6d48f",
   "metadata": {
    "execution": {
     "iopub.execute_input": "2025-02-26T09:47:23.590124Z",
     "iopub.status.busy": "2025-02-26T09:47:23.589745Z",
     "iopub.status.idle": "2025-02-26T09:47:23.596337Z",
     "shell.execute_reply": "2025-02-26T09:47:23.595147Z"
    },
    "papermill": {
     "duration": 0.016151,
     "end_time": "2025-02-26T09:47:23.598193",
     "exception": false,
     "start_time": "2025-02-26T09:47:23.582042",
     "status": "completed"
    },
    "tags": []
   },
   "outputs": [
    {
     "name": "stdout",
     "output_type": "stream",
     "text": [
      "1\n",
      "1\n",
      "-3\n",
      "-2\n"
     ]
    }
   ],
   "source": [
    "# Uncomment and run this code to get started!\n",
    "print(int(1.2321))\n",
    "print(int(1.747))\n",
    "print(int(-3.94535))\n",
    "print(int(-2.19774))"
   ]
  },
  {
   "cell_type": "markdown",
   "id": "fd22b4ce",
   "metadata": {
    "papermill": {
     "duration": 0.005735,
     "end_time": "2025-02-26T09:47:23.609954",
     "exception": false,
     "start_time": "2025-02-26T09:47:23.604219",
     "status": "completed"
    },
    "tags": []
   },
   "source": [
    "Once you have an answer, run the code cell below to see the solution.  Viewing the solution will give you credit for answering the problem."
   ]
  },
  {
   "cell_type": "code",
   "execution_count": 4,
   "id": "bd7300c8",
   "metadata": {
    "execution": {
     "iopub.execute_input": "2025-02-26T09:47:23.623643Z",
     "iopub.status.busy": "2025-02-26T09:47:23.623240Z",
     "iopub.status.idle": "2025-02-26T09:47:23.632619Z",
     "shell.execute_reply": "2025-02-26T09:47:23.631203Z"
    },
    "papermill": {
     "duration": 0.018922,
     "end_time": "2025-02-26T09:47:23.634609",
     "exception": false,
     "start_time": "2025-02-26T09:47:23.615687",
     "status": "completed"
    },
    "tags": []
   },
   "outputs": [
    {
     "data": {
      "application/javascript": [
       "parent.postMessage({\"jupyterEvent\": \"custom.exercise_interaction\", \"data\": {\"outcomeType\": 1, \"valueTowardsCompletion\": 0.2, \"interactionType\": 1, \"questionType\": 4, \"questionId\": \"1_FloatToInt\", \"learnToolsVersion\": \"0.3.4\", \"failureMessage\": \"\", \"exceptionClass\": \"\", \"trace\": \"\"}}, \"*\")"
      ],
      "text/plain": [
       "<IPython.core.display.Javascript object>"
      ]
     },
     "metadata": {},
     "output_type": "display_data"
    },
    {
     "data": {
      "text/markdown": [
       "<span style=\"color:#33cc33\">Correct:</span> \n",
       "\n",
       "Negative floats are always rounded UP to the closest integer (for instance, both -1.1 and -1.9 are rounded up to -1). Positive floats are always rounded DOWN to the closest integer (for instance, 2.1 and 2.9 are rounded down to 2)."
      ],
      "text/plain": [
       "Correct: \n",
       "\n",
       "Negative floats are always rounded UP to the closest integer (for instance, both -1.1 and -1.9 are rounded up to -1). Positive floats are always rounded DOWN to the closest integer (for instance, 2.1 and 2.9 are rounded down to 2)."
      ]
     },
     "metadata": {},
     "output_type": "display_data"
    }
   ],
   "source": [
    "q1.check()"
   ]
  },
  {
   "cell_type": "markdown",
   "id": "760d9412",
   "metadata": {
    "papermill": {
     "duration": 0.005988,
     "end_time": "2025-02-26T09:47:23.646754",
     "exception": false,
     "start_time": "2025-02-26T09:47:23.640766",
     "status": "completed"
    },
    "tags": []
   },
   "source": [
    "# Question 2\n",
    "\n",
    "In the tutorial, you learned about booleans (which can take a value of `True` or `False`), in addition to integers, floats, and strings.  For this question, your goal is to determine what happens when you multiply a boolean by any of these data types.  Specifically, \n",
    "- What happens when you multiply an integer or float by `True`?  What happens when you multiply them by `False`?  How does the answer change if the numbers are positive or negative?\n",
    "- What happens when you multiply a string by `True`?  By `False`?\n",
    "\n",
    "Use the next code cell for your investigation. "
   ]
  },
  {
   "cell_type": "code",
   "execution_count": 5,
   "id": "8dfb38be",
   "metadata": {
    "execution": {
     "iopub.execute_input": "2025-02-26T09:47:23.659599Z",
     "iopub.status.busy": "2025-02-26T09:47:23.659240Z",
     "iopub.status.idle": "2025-02-26T09:47:23.665918Z",
     "shell.execute_reply": "2025-02-26T09:47:23.664198Z"
    },
    "papermill": {
     "duration": 0.015525,
     "end_time": "2025-02-26T09:47:23.668091",
     "exception": false,
     "start_time": "2025-02-26T09:47:23.652566",
     "status": "completed"
    },
    "tags": []
   },
   "outputs": [
    {
     "name": "stdout",
     "output_type": "stream",
     "text": [
      "3\n",
      "-3.1\n",
      "<class 'str'>\n",
      "0\n"
     ]
    }
   ],
   "source": [
    "# Uncomment and run this code to get started!\n",
    "print(3 * True)\n",
    "print(-3.1 * True)\n",
    "print(type(\"abc\" * False))\n",
    "print(len(\"abc\" * False))"
   ]
  },
  {
   "cell_type": "markdown",
   "id": "3dbbb95c",
   "metadata": {
    "papermill": {
     "duration": 0.005725,
     "end_time": "2025-02-26T09:47:23.680573",
     "exception": false,
     "start_time": "2025-02-26T09:47:23.674848",
     "status": "completed"
    },
    "tags": []
   },
   "source": [
    "Once you have an answer, run the code cell below to see the solution.  Viewing the solution will give you credit for answering the problem."
   ]
  },
  {
   "cell_type": "code",
   "execution_count": 6,
   "id": "5ff9e840",
   "metadata": {
    "execution": {
     "iopub.execute_input": "2025-02-26T09:47:23.693875Z",
     "iopub.status.busy": "2025-02-26T09:47:23.693435Z",
     "iopub.status.idle": "2025-02-26T09:47:23.701329Z",
     "shell.execute_reply": "2025-02-26T09:47:23.700179Z"
    },
    "papermill": {
     "duration": 0.016381,
     "end_time": "2025-02-26T09:47:23.702892",
     "exception": false,
     "start_time": "2025-02-26T09:47:23.686511",
     "status": "completed"
    },
    "tags": []
   },
   "outputs": [
    {
     "data": {
      "application/javascript": [
       "parent.postMessage({\"jupyterEvent\": \"custom.exercise_interaction\", \"data\": {\"outcomeType\": 1, \"valueTowardsCompletion\": 0.2, \"interactionType\": 1, \"questionType\": 4, \"questionId\": \"2_MultiplyBooleans\", \"learnToolsVersion\": \"0.3.4\", \"failureMessage\": \"\", \"exceptionClass\": \"\", \"trace\": \"\"}}, \"*\")"
      ],
      "text/plain": [
       "<IPython.core.display.Javascript object>"
      ]
     },
     "metadata": {},
     "output_type": "display_data"
    },
    {
     "data": {
      "text/markdown": [
       "<span style=\"color:#33cc33\">Correct:</span> \n",
       "\n",
       "When you multiple an integer or float by a boolean with value `True`, it just returns that same integer or float (and is equivalent to multiplying by 1).  If you multiply an integer or float by a boolean with value `False`, it always returns 0.  This is true for both positive and negative numbers.  If you multiply a string by a boolean with value `True`, it just returns that same string.  And if you multiply a string by a boolean with value `False`, it returns an empty string (or a string with length zero)."
      ],
      "text/plain": [
       "Correct: \n",
       "\n",
       "When you multiple an integer or float by a boolean with value `True`, it just returns that same integer or float (and is equivalent to multiplying by 1).  If you multiply an integer or float by a boolean with value `False`, it always returns 0.  This is true for both positive and negative numbers.  If you multiply a string by a boolean with value `True`, it just returns that same string.  And if you multiply a string by a boolean with value `False`, it returns an empty string (or a string with length zero)."
      ]
     },
     "metadata": {},
     "output_type": "display_data"
    }
   ],
   "source": [
    "q2.check()"
   ]
  },
  {
   "cell_type": "markdown",
   "id": "f2d860a2",
   "metadata": {
    "papermill": {
     "duration": 0.00648,
     "end_time": "2025-02-26T09:47:23.716091",
     "exception": false,
     "start_time": "2025-02-26T09:47:23.709611",
     "status": "completed"
    },
    "tags": []
   },
   "source": [
    "# Question 3\n",
    "\n",
    "In this question, you will build off your work from the previous exercise to write a function that estimates the value of a house.\n",
    "\n",
    "Use the next code cell to create a function `get_expected_cost` that takes as input three variables:\n",
    "- `beds` - number of bedrooms (data type float)\n",
    "- `baths` - number of bathrooms (data type float)\n",
    "- `has_basement` - whether or not the house has a basement (data type boolean)\n",
    "\n",
    "It should return the expected cost of a house with those characteristics. Assume that:\n",
    "- the expected cost for a house with 0 bedrooms and 0 bathrooms, and no basement is 80000, \n",
    "- each bedroom adds 30000 to the expected cost,\n",
    "- each bathroom adds 10000 to the expected cost, and\n",
    "- a basement adds 40000 to the expected cost.\n",
    "\n",
    "For instance,\n",
    "- a house with 1 bedroom, 1 bathroom, and no basement has an expected cost of 80000 + 30000 + 10000 = 120000.  This value will be calculated with `get_expected_cost(1, 1, False)`.\n",
    "- a house with 2 bedrooms, 1 bathroom, and a basement has an expected cost of 80000 + 2*30000 + 10000 + 40000 = 190000.  This value will be calculated with `get_expected_cost(2, 1, True)`.\n",
    "\n",
    "Remember you can always get a hint by uncommenting `q3.hint()` in the code cell following the next!"
   ]
  },
  {
   "cell_type": "code",
   "execution_count": 7,
   "id": "45c272c3",
   "metadata": {
    "execution": {
     "iopub.execute_input": "2025-02-26T09:47:23.733294Z",
     "iopub.status.busy": "2025-02-26T09:47:23.732767Z",
     "iopub.status.idle": "2025-02-26T09:47:23.741894Z",
     "shell.execute_reply": "2025-02-26T09:47:23.740843Z"
    },
    "papermill": {
     "duration": 0.019917,
     "end_time": "2025-02-26T09:47:23.743715",
     "exception": false,
     "start_time": "2025-02-26T09:47:23.723798",
     "status": "completed"
    },
    "tags": []
   },
   "outputs": [
    {
     "data": {
      "application/javascript": [
       "parent.postMessage({\"jupyterEvent\": \"custom.exercise_interaction\", \"data\": {\"outcomeType\": 1, \"valueTowardsCompletion\": 0.2, \"interactionType\": 1, \"questionType\": 2, \"questionId\": \"3_EstimateHouseValueBool\", \"learnToolsVersion\": \"0.3.4\", \"failureMessage\": \"\", \"exceptionClass\": \"\", \"trace\": \"\"}}, \"*\")"
      ],
      "text/plain": [
       "<IPython.core.display.Javascript object>"
      ]
     },
     "metadata": {},
     "output_type": "display_data"
    },
    {
     "data": {
      "text/markdown": [
       "<span style=\"color:#33cc33\">Correct</span>"
      ],
      "text/plain": [
       "Correct"
      ]
     },
     "metadata": {},
     "output_type": "display_data"
    }
   ],
   "source": [
    "# TODO: Complete the function\n",
    "def get_expected_cost(beds, baths, has_basement):\n",
    "    value = 80000 + 30000 * beds + 10000 * baths + 40000 * has_basement\n",
    "    return value\n",
    "\n",
    "# Check your answer \n",
    "q3.check()"
   ]
  },
  {
   "cell_type": "code",
   "execution_count": 8,
   "id": "01d13a63",
   "metadata": {
    "execution": {
     "iopub.execute_input": "2025-02-26T09:47:23.758856Z",
     "iopub.status.busy": "2025-02-26T09:47:23.758509Z",
     "iopub.status.idle": "2025-02-26T09:47:23.769967Z",
     "shell.execute_reply": "2025-02-26T09:47:23.768884Z"
    },
    "papermill": {
     "duration": 0.021533,
     "end_time": "2025-02-26T09:47:23.772186",
     "exception": false,
     "start_time": "2025-02-26T09:47:23.750653",
     "status": "completed"
    },
    "tags": []
   },
   "outputs": [
    {
     "data": {
      "application/javascript": [
       "parent.postMessage({\"jupyterEvent\": \"custom.exercise_interaction\", \"data\": {\"interactionType\": 2, \"questionType\": 2, \"questionId\": \"3_EstimateHouseValueBool\", \"learnToolsVersion\": \"0.3.4\", \"valueTowardsCompletion\": 0.0, \"failureMessage\": \"\", \"exceptionClass\": \"\", \"trace\": \"\", \"outcomeType\": 4}}, \"*\")"
      ],
      "text/plain": [
       "<IPython.core.display.Javascript object>"
      ]
     },
     "metadata": {},
     "output_type": "display_data"
    },
    {
     "data": {
      "text/markdown": [
       "<span style=\"color:#3366cc\">Hint:</span> The variable `has_basement` is either `True` or `False`.  What happens when you multiply it by 40000 (the value of a basement)?  Refer to the previous question if you are unsure."
      ],
      "text/plain": [
       "Hint: The variable `has_basement` is either `True` or `False`.  What happens when you multiply it by 40000 (the value of a basement)?  Refer to the previous question if you are unsure."
      ]
     },
     "metadata": {},
     "output_type": "display_data"
    },
    {
     "data": {
      "application/javascript": [
       "parent.postMessage({\"jupyterEvent\": \"custom.exercise_interaction\", \"data\": {\"interactionType\": 3, \"questionType\": 2, \"questionId\": \"3_EstimateHouseValueBool\", \"learnToolsVersion\": \"0.3.4\", \"valueTowardsCompletion\": 0.0, \"failureMessage\": \"\", \"exceptionClass\": \"\", \"trace\": \"\", \"outcomeType\": 4}}, \"*\")"
      ],
      "text/plain": [
       "<IPython.core.display.Javascript object>"
      ]
     },
     "metadata": {},
     "output_type": "display_data"
    },
    {
     "data": {
      "text/markdown": [
       "<span style=\"color:#33cc99\">Solution:</span> \n",
       "```python\n",
       "def get_expected_cost(beds, baths, has_basement):\n",
       "    value = 80000 + 30000 * beds + 10000 * baths + 40000 * has_basement\n",
       "    return value\n",
       "\n",
       "```"
      ],
      "text/plain": [
       "Solution: \n",
       "```python\n",
       "def get_expected_cost(beds, baths, has_basement):\n",
       "    value = 80000 + 30000 * beds + 10000 * baths + 40000 * has_basement\n",
       "    return value\n",
       "\n",
       "```"
      ]
     },
     "metadata": {},
     "output_type": "display_data"
    }
   ],
   "source": [
    "# Uncomment to see a hint\n",
    "q3.hint()\n",
    "\n",
    "# Uncomment to view the solution\n",
    "q3.solution()"
   ]
  },
  {
   "cell_type": "markdown",
   "id": "c14401eb",
   "metadata": {
    "papermill": {
     "duration": 0.00671,
     "end_time": "2025-02-26T09:47:23.786256",
     "exception": false,
     "start_time": "2025-02-26T09:47:23.779546",
     "status": "completed"
    },
    "tags": []
   },
   "source": [
    "# Question 4\n",
    "\n",
    "We'll continue our study of boolean arithmetic.  For this question, your task is to provide a description of what happpens when you add booleans. \n",
    "\n",
    "Use the next code cell for your investigation.  Feel free to add or remove any lines of code - use it as your workspace!"
   ]
  },
  {
   "cell_type": "code",
   "execution_count": 9,
   "id": "f533ac1a",
   "metadata": {
    "execution": {
     "iopub.execute_input": "2025-02-26T09:47:23.801147Z",
     "iopub.status.busy": "2025-02-26T09:47:23.800785Z",
     "iopub.status.idle": "2025-02-26T09:47:23.807168Z",
     "shell.execute_reply": "2025-02-26T09:47:23.806029Z"
    },
    "papermill": {
     "duration": 0.015874,
     "end_time": "2025-02-26T09:47:23.808912",
     "exception": false,
     "start_time": "2025-02-26T09:47:23.793038",
     "status": "completed"
    },
    "tags": []
   },
   "outputs": [
    {
     "name": "stdout",
     "output_type": "stream",
     "text": [
      "0\n",
      "1\n",
      "1\n",
      "2\n",
      "3\n"
     ]
    }
   ],
   "source": [
    "print(False + False)\n",
    "print(True + False)\n",
    "print(False + True)\n",
    "print(True + True)\n",
    "print(False + True + True + True)"
   ]
  },
  {
   "cell_type": "markdown",
   "id": "f28c50a8",
   "metadata": {
    "papermill": {
     "duration": 0.006383,
     "end_time": "2025-02-26T09:47:23.822494",
     "exception": false,
     "start_time": "2025-02-26T09:47:23.816111",
     "status": "completed"
    },
    "tags": []
   },
   "source": [
    "Once you have an answer, run the code cell below to see the solution.  Viewing the solution will give you credit for answering the problem."
   ]
  },
  {
   "cell_type": "code",
   "execution_count": 10,
   "id": "c0b61db5",
   "metadata": {
    "execution": {
     "iopub.execute_input": "2025-02-26T09:47:23.837251Z",
     "iopub.status.busy": "2025-02-26T09:47:23.836870Z",
     "iopub.status.idle": "2025-02-26T09:47:23.844683Z",
     "shell.execute_reply": "2025-02-26T09:47:23.843543Z"
    },
    "papermill": {
     "duration": 0.017418,
     "end_time": "2025-02-26T09:47:23.846621",
     "exception": false,
     "start_time": "2025-02-26T09:47:23.829203",
     "status": "completed"
    },
    "tags": []
   },
   "outputs": [
    {
     "data": {
      "application/javascript": [
       "parent.postMessage({\"jupyterEvent\": \"custom.exercise_interaction\", \"data\": {\"outcomeType\": 1, \"valueTowardsCompletion\": 0.2, \"interactionType\": 1, \"questionType\": 4, \"questionId\": \"4_AddingBooleans\", \"learnToolsVersion\": \"0.3.4\", \"failureMessage\": \"\", \"exceptionClass\": \"\", \"trace\": \"\"}}, \"*\")"
      ],
      "text/plain": [
       "<IPython.core.display.Javascript object>"
      ]
     },
     "metadata": {},
     "output_type": "display_data"
    },
    {
     "data": {
      "text/markdown": [
       "<span style=\"color:#33cc33\">Correct:</span> \n",
       "\n",
       "When you add booleans, adding `False` is equivalent to adding 0, and adding `True` is equivalent to adding 1."
      ],
      "text/plain": [
       "Correct: \n",
       "\n",
       "When you add booleans, adding `False` is equivalent to adding 0, and adding `True` is equivalent to adding 1."
      ]
     },
     "metadata": {},
     "output_type": "display_data"
    }
   ],
   "source": [
    "q4.check()"
   ]
  },
  {
   "cell_type": "markdown",
   "id": "b337c205",
   "metadata": {
    "papermill": {
     "duration": 0.006676,
     "end_time": "2025-02-26T09:47:23.860511",
     "exception": false,
     "start_time": "2025-02-26T09:47:23.853835",
     "status": "completed"
    },
    "tags": []
   },
   "source": [
    "# 🌶️ Question 5\n",
    "\n",
    "You own an online shop where you sell rings with custom engravings.  You offer both gold plated and solid gold rings.\n",
    "- Gold plated rings have a base cost of \\\\$50, and you charge \\\\$7 per engraved unit.  \n",
    "- Solid gold rings have a base cost of \\\\$100, and you charge \\\\$10 per engraved unit.\n",
    "- Spaces and punctuation are counted as engraved units.\n",
    "\n",
    "Write a function `cost_of_project()` that takes two arguments:\n",
    "- `engraving` - a Python string with the text of the engraving\n",
    "- `solid_gold` - a Boolean that indicates whether the ring is solid gold\n",
    "\n",
    "It should return the cost of the project.  This question should be fairly challenging, and you may need a hint."
   ]
  },
  {
   "cell_type": "code",
   "execution_count": 11,
   "id": "5454781c",
   "metadata": {
    "execution": {
     "iopub.execute_input": "2025-02-26T09:47:23.876799Z",
     "iopub.status.busy": "2025-02-26T09:47:23.876451Z",
     "iopub.status.idle": "2025-02-26T09:47:23.884955Z",
     "shell.execute_reply": "2025-02-26T09:47:23.883780Z"
    },
    "papermill": {
     "duration": 0.018483,
     "end_time": "2025-02-26T09:47:23.886859",
     "exception": false,
     "start_time": "2025-02-26T09:47:23.868376",
     "status": "completed"
    },
    "tags": []
   },
   "outputs": [
    {
     "data": {
      "application/javascript": [
       "parent.postMessage({\"jupyterEvent\": \"custom.exercise_interaction\", \"data\": {\"outcomeType\": 1, \"valueTowardsCompletion\": 0.2, \"interactionType\": 1, \"questionType\": 2, \"questionId\": \"5_CustomEngravings\", \"learnToolsVersion\": \"0.3.4\", \"failureMessage\": \"\", \"exceptionClass\": \"\", \"trace\": \"\"}}, \"*\")"
      ],
      "text/plain": [
       "<IPython.core.display.Javascript object>"
      ]
     },
     "metadata": {},
     "output_type": "display_data"
    },
    {
     "data": {
      "text/markdown": [
       "<span style=\"color:#33cc33\">Correct</span>"
      ],
      "text/plain": [
       "Correct"
      ]
     },
     "metadata": {},
     "output_type": "display_data"
    }
   ],
   "source": [
    "def cost_of_project(engraving, solid_gold):\n",
    "    cost = solid_gold * (100 + 10 * len(engraving)) + (not solid_gold) * (50 + 7 * len(engraving))\n",
    "    return cost\n",
    "\n",
    "q5.check()"
   ]
  },
  {
   "cell_type": "code",
   "execution_count": 12,
   "id": "63d3ea50",
   "metadata": {
    "execution": {
     "iopub.execute_input": "2025-02-26T09:47:23.903342Z",
     "iopub.status.busy": "2025-02-26T09:47:23.902940Z",
     "iopub.status.idle": "2025-02-26T09:47:23.913402Z",
     "shell.execute_reply": "2025-02-26T09:47:23.912261Z"
    },
    "papermill": {
     "duration": 0.021189,
     "end_time": "2025-02-26T09:47:23.915409",
     "exception": false,
     "start_time": "2025-02-26T09:47:23.894220",
     "status": "completed"
    },
    "tags": []
   },
   "outputs": [
    {
     "data": {
      "application/javascript": [
       "parent.postMessage({\"jupyterEvent\": \"custom.exercise_interaction\", \"data\": {\"interactionType\": 2, \"questionType\": 2, \"questionId\": \"5_CustomEngravings\", \"learnToolsVersion\": \"0.3.4\", \"valueTowardsCompletion\": 0.0, \"failureMessage\": \"\", \"exceptionClass\": \"\", \"trace\": \"\", \"outcomeType\": 4}}, \"*\")"
      ],
      "text/plain": [
       "<IPython.core.display.Javascript object>"
      ]
     },
     "metadata": {},
     "output_type": "display_data"
    },
    {
     "data": {
      "text/markdown": [
       "<span style=\"color:#3366cc\">Hint:</span> There are two options - either the project uses solid gold or does not.  With this in mind, you can structure your solution like this: `cost = solid_gold * ____ + (not solid_gold) * ____`.  You need to figure out how to fill in the blanks. Also, remember that:\n",
       "- If `solid_gold = True`, then `(not solid_gold) = False`, and if `solid_gold = False`, then `(not solid_gold) = True`.\n",
       "- Multiplying an integer by `True` is equivalent to multiplying it by 1, and multiplying an integer by `False` is equivalent to multiplying it by 0."
      ],
      "text/plain": [
       "Hint: There are two options - either the project uses solid gold or does not.  With this in mind, you can structure your solution like this: `cost = solid_gold * ____ + (not solid_gold) * ____`.  You need to figure out how to fill in the blanks. Also, remember that:\n",
       "- If `solid_gold = True`, then `(not solid_gold) = False`, and if `solid_gold = False`, then `(not solid_gold) = True`.\n",
       "- Multiplying an integer by `True` is equivalent to multiplying it by 1, and multiplying an integer by `False` is equivalent to multiplying it by 0."
      ]
     },
     "metadata": {},
     "output_type": "display_data"
    },
    {
     "data": {
      "application/javascript": [
       "parent.postMessage({\"jupyterEvent\": \"custom.exercise_interaction\", \"data\": {\"interactionType\": 3, \"questionType\": 2, \"questionId\": \"5_CustomEngravings\", \"learnToolsVersion\": \"0.3.4\", \"valueTowardsCompletion\": 0.0, \"failureMessage\": \"\", \"exceptionClass\": \"\", \"trace\": \"\", \"outcomeType\": 4}}, \"*\")"
      ],
      "text/plain": [
       "<IPython.core.display.Javascript object>"
      ]
     },
     "metadata": {},
     "output_type": "display_data"
    },
    {
     "data": {
      "text/markdown": [
       "<span style=\"color:#33cc99\">Solution:</span> \n",
       "```python\n",
       "def cost_of_project(engraving, solid_gold):\n",
       "    cost = solid_gold * (100 + 10 * len(engraving)) + (not solid_gold) * (50 + 7 * len(engraving))\n",
       "    return cost\n",
       "\n",
       "```"
      ],
      "text/plain": [
       "Solution: \n",
       "```python\n",
       "def cost_of_project(engraving, solid_gold):\n",
       "    cost = solid_gold * (100 + 10 * len(engraving)) + (not solid_gold) * (50 + 7 * len(engraving))\n",
       "    return cost\n",
       "\n",
       "```"
      ]
     },
     "metadata": {},
     "output_type": "display_data"
    }
   ],
   "source": [
    "# Uncomment to see a hint\n",
    "q5.hint()\n",
    "\n",
    "# Uncomment to view the solution\n",
    "q5.solution()"
   ]
  },
  {
   "cell_type": "markdown",
   "id": "d41d7940",
   "metadata": {
    "papermill": {
     "duration": 0.009085,
     "end_time": "2025-02-26T09:47:23.932916",
     "exception": false,
     "start_time": "2025-02-26T09:47:23.923831",
     "status": "completed"
    },
    "tags": []
   },
   "source": [
    "Run the next code cell to calculate the cost of engraving `Charlie+Denver` on a solid gold ring."
   ]
  },
  {
   "cell_type": "code",
   "execution_count": 13,
   "id": "9c42198e",
   "metadata": {
    "execution": {
     "iopub.execute_input": "2025-02-26T09:47:23.950256Z",
     "iopub.status.busy": "2025-02-26T09:47:23.949844Z",
     "iopub.status.idle": "2025-02-26T09:47:23.954917Z",
     "shell.execute_reply": "2025-02-26T09:47:23.953749Z"
    },
    "papermill": {
     "duration": 0.015467,
     "end_time": "2025-02-26T09:47:23.956555",
     "exception": false,
     "start_time": "2025-02-26T09:47:23.941088",
     "status": "completed"
    },
    "tags": []
   },
   "outputs": [
    {
     "name": "stdout",
     "output_type": "stream",
     "text": [
      "240\n"
     ]
    }
   ],
   "source": [
    "project_one = cost_of_project(\"Charlie+Denver\", True)\n",
    "print(project_one)"
   ]
  },
  {
   "cell_type": "markdown",
   "id": "bb64f7e7",
   "metadata": {
    "papermill": {
     "duration": 0.007507,
     "end_time": "2025-02-26T09:47:23.972272",
     "exception": false,
     "start_time": "2025-02-26T09:47:23.964765",
     "status": "completed"
    },
    "tags": []
   },
   "source": [
    "Use the next code cell to calculate the cost of engraving `08/10/2000` on a gold plated ring."
   ]
  },
  {
   "cell_type": "code",
   "execution_count": 14,
   "id": "f688dd96",
   "metadata": {
    "execution": {
     "iopub.execute_input": "2025-02-26T09:47:23.988997Z",
     "iopub.status.busy": "2025-02-26T09:47:23.988671Z",
     "iopub.status.idle": "2025-02-26T09:47:23.993534Z",
     "shell.execute_reply": "2025-02-26T09:47:23.992429Z"
    },
    "papermill": {
     "duration": 0.015248,
     "end_time": "2025-02-26T09:47:23.995148",
     "exception": false,
     "start_time": "2025-02-26T09:47:23.979900",
     "status": "completed"
    },
    "tags": []
   },
   "outputs": [
    {
     "name": "stdout",
     "output_type": "stream",
     "text": [
      "120\n"
     ]
    }
   ],
   "source": [
    "project_two = cost_of_project(\"08/10/2000\", False)\n",
    "print(project_two)"
   ]
  },
  {
   "cell_type": "markdown",
   "id": "627f0e40",
   "metadata": {
    "papermill": {
     "duration": 0.008,
     "end_time": "2025-02-26T09:47:24.010951",
     "exception": false,
     "start_time": "2025-02-26T09:47:24.002951",
     "status": "completed"
    },
    "tags": []
   },
   "source": [
    "# Keep going\n",
    "\n",
    "Continue to the next lesson to **[learn about conditions and conditional statements](https://www.kaggle.com/alexisbcook/conditions-and-conditional-statements)**."
   ]
  },
  {
   "cell_type": "markdown",
   "id": "00aa72ae",
   "metadata": {
    "papermill": {
     "duration": 0.008062,
     "end_time": "2025-02-26T09:47:24.027836",
     "exception": false,
     "start_time": "2025-02-26T09:47:24.019774",
     "status": "completed"
    },
    "tags": []
   },
   "source": [
    "---\n",
    "\n",
    "\n",
    "\n",
    "\n",
    "*Have questions or comments? Visit the [course discussion forum](https://www.kaggle.com/learn/intro-to-programming/discussion) to chat with other learners.*"
   ]
  }
 ],
 "metadata": {
  "kaggle": {
   "accelerator": "none",
   "dataSources": [],
   "isGpuEnabled": false,
   "isInternetEnabled": false,
   "language": "python",
   "sourceType": "notebook"
  },
  "kernelspec": {
   "display_name": "Python 3",
   "language": "python",
   "name": "python3"
  },
  "language_info": {
   "codemirror_mode": {
    "name": "ipython",
    "version": 3
   },
   "file_extension": ".py",
   "mimetype": "text/x-python",
   "name": "python",
   "nbconvert_exporter": "python",
   "pygments_lexer": "ipython3",
   "version": "3.10.12"
  },
  "papermill": {
   "default_parameters": {},
   "duration": 5.248763,
   "end_time": "2025-02-26T09:47:24.655856",
   "environment_variables": {},
   "exception": null,
   "input_path": "__notebook__.ipynb",
   "output_path": "__notebook__.ipynb",
   "parameters": {},
   "start_time": "2025-02-26T09:47:19.407093",
   "version": "2.3.3"
  }
 },
 "nbformat": 4,
 "nbformat_minor": 5
}
